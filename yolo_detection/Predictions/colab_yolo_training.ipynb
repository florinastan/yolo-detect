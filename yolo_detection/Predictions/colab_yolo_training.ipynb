{
  "nbformat": 4,
  "nbformat_minor": 0,
  "metadata": {
    "colab": {
      "provenance": []
    },
    "kernelspec": {
      "name": "python3",
      "display_name": "Python 3"
    },
    "language_info": {
      "name": "python"
    },
    "accelerator": "GPU"
  },
  "cells": [
    {
      "cell_type": "code",
      "execution_count": null,
      "metadata": {
        "id": "FvCvOlZOTsrj"
      },
      "outputs": [],
      "source": [
        "import os\n",
        "os.chdir('/content/drive/MyDrive/Yolo_training')"
      ]
    },
    {
      "cell_type": "code",
      "source": [
        "ls"
      ],
      "metadata": {
        "colab": {
          "base_uri": "https://localhost:8080/"
        },
        "id": "qGJFxksYWv08",
        "outputId": "b790b4db-73e3-48c7-89e4-a1bc630a5df0"
      },
      "execution_count": null,
      "outputs": [
        {
          "output_type": "stream",
          "name": "stdout",
          "text": [
            "yolo_training.ipynb  \u001b[0m\u001b[01;34myolov5\u001b[0m/\n"
          ]
        }
      ]
    },
    {
      "cell_type": "code",
      "source": [
        "#!git clone https://github.com/ultralytics/yolov5.git"
      ],
      "metadata": {
        "colab": {
          "base_uri": "https://localhost:8080/"
        },
        "id": "Z1UtCx9rWxHj",
        "outputId": "4fc21ab8-1d07-42e5-c9f1-3b18da4aae3b"
      },
      "execution_count": null,
      "outputs": [
        {
          "output_type": "stream",
          "name": "stdout",
          "text": [
            "Cloning into 'yolov5'...\n",
            "remote: Enumerating objects: 13673, done.\u001b[K\n",
            "remote: Total 13673 (delta 0), reused 0 (delta 0), pack-reused 13673\u001b[K\n",
            "Receiving objects: 100% (13673/13673), 12.16 MiB | 9.63 MiB/s, done.\n",
            "Resolving deltas: 100% (9559/9559), done.\n"
          ]
        }
      ]
    },
    {
      "cell_type": "code",
      "source": [
        "os.chdir('yolov5')"
      ],
      "metadata": {
        "id": "UszaCXeZW8PL"
      },
      "execution_count": null,
      "outputs": []
    },
    {
      "cell_type": "code",
      "source": [
        "ls"
      ],
      "metadata": {
        "colab": {
          "base_uri": "https://localhost:8080/"
        },
        "id": "briIGeukyTup",
        "outputId": "358b14ca-c976-4eca-a90e-219bfe945682"
      },
      "execution_count": null,
      "outputs": [
        {
          "output_type": "stream",
          "name": "stdout",
          "text": [
            "CONTRIBUTING.md  detect.py   LICENSE    requirements.txt  tutorial.ipynb\n",
            "\u001b[0m\u001b[01;34mdata\u001b[0m/            export.py   \u001b[01;34mmodels\u001b[0m/    setup.cfg         \u001b[01;34mutils\u001b[0m/\n",
            "\u001b[01;34mdata_images\u001b[0m/     hubconf.py  README.md  train.py          val.py\n"
          ]
        }
      ]
    },
    {
      "cell_type": "code",
      "source": [
        "!pip install -r requirements.txt"
      ],
      "metadata": {
        "colab": {
          "base_uri": "https://localhost:8080/"
        },
        "id": "wZwb1KJEyUk3",
        "outputId": "bfac7857-270d-48a1-929f-6d5a2e5c010a"
      },
      "execution_count": null,
      "outputs": [
        {
          "output_type": "stream",
          "name": "stdout",
          "text": [
            "Requirement already satisfied: matplotlib>=3.2.2 in /usr/local/lib/python3.7/dist-packages (from -r requirements.txt (line 4)) (3.2.2)\n",
            "Requirement already satisfied: numpy>=1.18.5 in /usr/local/lib/python3.7/dist-packages (from -r requirements.txt (line 5)) (1.21.6)\n",
            "Requirement already satisfied: opencv-python>=4.1.1 in /usr/local/lib/python3.7/dist-packages (from -r requirements.txt (line 6)) (4.1.2.30)\n",
            "Requirement already satisfied: Pillow>=7.1.2 in /usr/local/lib/python3.7/dist-packages (from -r requirements.txt (line 7)) (7.1.2)\n",
            "Collecting PyYAML>=5.3.1\n",
            "  Downloading PyYAML-6.0-cp37-cp37m-manylinux_2_5_x86_64.manylinux1_x86_64.manylinux_2_12_x86_64.manylinux2010_x86_64.whl (596 kB)\n",
            "\u001b[K     |████████████████████████████████| 596 kB 19.3 MB/s \n",
            "\u001b[?25hRequirement already satisfied: requests>=2.23.0 in /usr/local/lib/python3.7/dist-packages (from -r requirements.txt (line 9)) (2.23.0)\n",
            "Requirement already satisfied: scipy>=1.4.1 in /usr/local/lib/python3.7/dist-packages (from -r requirements.txt (line 10)) (1.4.1)\n",
            "Requirement already satisfied: torch>=1.7.0 in /usr/local/lib/python3.7/dist-packages (from -r requirements.txt (line 11)) (1.11.0+cu113)\n",
            "Requirement already satisfied: torchvision>=0.8.1 in /usr/local/lib/python3.7/dist-packages (from -r requirements.txt (line 12)) (0.12.0+cu113)\n",
            "Requirement already satisfied: tqdm>=4.41.0 in /usr/local/lib/python3.7/dist-packages (from -r requirements.txt (line 13)) (4.64.0)\n",
            "Requirement already satisfied: tensorboard>=2.4.1 in /usr/local/lib/python3.7/dist-packages (from -r requirements.txt (line 16)) (2.8.0)\n",
            "Requirement already satisfied: pandas>=1.1.4 in /usr/local/lib/python3.7/dist-packages (from -r requirements.txt (line 20)) (1.3.5)\n",
            "Requirement already satisfied: seaborn>=0.11.0 in /usr/local/lib/python3.7/dist-packages (from -r requirements.txt (line 21)) (0.11.2)\n",
            "Collecting thop\n",
            "  Downloading thop-0.0.31.post2005241907-py3-none-any.whl (8.7 kB)\n",
            "Requirement already satisfied: cycler>=0.10 in /usr/local/lib/python3.7/dist-packages (from matplotlib>=3.2.2->-r requirements.txt (line 4)) (0.11.0)\n",
            "Requirement already satisfied: python-dateutil>=2.1 in /usr/local/lib/python3.7/dist-packages (from matplotlib>=3.2.2->-r requirements.txt (line 4)) (2.8.2)\n",
            "Requirement already satisfied: kiwisolver>=1.0.1 in /usr/local/lib/python3.7/dist-packages (from matplotlib>=3.2.2->-r requirements.txt (line 4)) (1.4.2)\n",
            "Requirement already satisfied: pyparsing!=2.0.4,!=2.1.2,!=2.1.6,>=2.0.1 in /usr/local/lib/python3.7/dist-packages (from matplotlib>=3.2.2->-r requirements.txt (line 4)) (3.0.9)\n",
            "Requirement already satisfied: urllib3!=1.25.0,!=1.25.1,<1.26,>=1.21.1 in /usr/local/lib/python3.7/dist-packages (from requests>=2.23.0->-r requirements.txt (line 9)) (1.24.3)\n",
            "Requirement already satisfied: chardet<4,>=3.0.2 in /usr/local/lib/python3.7/dist-packages (from requests>=2.23.0->-r requirements.txt (line 9)) (3.0.4)\n",
            "Requirement already satisfied: certifi>=2017.4.17 in /usr/local/lib/python3.7/dist-packages (from requests>=2.23.0->-r requirements.txt (line 9)) (2021.10.8)\n",
            "Requirement already satisfied: idna<3,>=2.5 in /usr/local/lib/python3.7/dist-packages (from requests>=2.23.0->-r requirements.txt (line 9)) (2.10)\n",
            "Requirement already satisfied: typing-extensions in /usr/local/lib/python3.7/dist-packages (from torch>=1.7.0->-r requirements.txt (line 11)) (4.2.0)\n",
            "Requirement already satisfied: google-auth-oauthlib<0.5,>=0.4.1 in /usr/local/lib/python3.7/dist-packages (from tensorboard>=2.4.1->-r requirements.txt (line 16)) (0.4.6)\n",
            "Requirement already satisfied: tensorboard-data-server<0.7.0,>=0.6.0 in /usr/local/lib/python3.7/dist-packages (from tensorboard>=2.4.1->-r requirements.txt (line 16)) (0.6.1)\n",
            "Requirement already satisfied: google-auth<3,>=1.6.3 in /usr/local/lib/python3.7/dist-packages (from tensorboard>=2.4.1->-r requirements.txt (line 16)) (1.35.0)\n",
            "Requirement already satisfied: markdown>=2.6.8 in /usr/local/lib/python3.7/dist-packages (from tensorboard>=2.4.1->-r requirements.txt (line 16)) (3.3.7)\n",
            "Requirement already satisfied: grpcio>=1.24.3 in /usr/local/lib/python3.7/dist-packages (from tensorboard>=2.4.1->-r requirements.txt (line 16)) (1.46.1)\n",
            "Requirement already satisfied: protobuf>=3.6.0 in /usr/local/lib/python3.7/dist-packages (from tensorboard>=2.4.1->-r requirements.txt (line 16)) (3.17.3)\n",
            "Requirement already satisfied: absl-py>=0.4 in /usr/local/lib/python3.7/dist-packages (from tensorboard>=2.4.1->-r requirements.txt (line 16)) (1.0.0)\n",
            "Requirement already satisfied: setuptools>=41.0.0 in /usr/local/lib/python3.7/dist-packages (from tensorboard>=2.4.1->-r requirements.txt (line 16)) (57.4.0)\n",
            "Requirement already satisfied: wheel>=0.26 in /usr/local/lib/python3.7/dist-packages (from tensorboard>=2.4.1->-r requirements.txt (line 16)) (0.37.1)\n",
            "Requirement already satisfied: tensorboard-plugin-wit>=1.6.0 in /usr/local/lib/python3.7/dist-packages (from tensorboard>=2.4.1->-r requirements.txt (line 16)) (1.8.1)\n",
            "Requirement already satisfied: werkzeug>=0.11.15 in /usr/local/lib/python3.7/dist-packages (from tensorboard>=2.4.1->-r requirements.txt (line 16)) (1.0.1)\n",
            "Requirement already satisfied: pytz>=2017.3 in /usr/local/lib/python3.7/dist-packages (from pandas>=1.1.4->-r requirements.txt (line 20)) (2022.1)\n",
            "Requirement already satisfied: six in /usr/local/lib/python3.7/dist-packages (from absl-py>=0.4->tensorboard>=2.4.1->-r requirements.txt (line 16)) (1.15.0)\n",
            "Requirement already satisfied: cachetools<5.0,>=2.0.0 in /usr/local/lib/python3.7/dist-packages (from google-auth<3,>=1.6.3->tensorboard>=2.4.1->-r requirements.txt (line 16)) (4.2.4)\n",
            "Requirement already satisfied: pyasn1-modules>=0.2.1 in /usr/local/lib/python3.7/dist-packages (from google-auth<3,>=1.6.3->tensorboard>=2.4.1->-r requirements.txt (line 16)) (0.2.8)\n",
            "Requirement already satisfied: rsa<5,>=3.1.4 in /usr/local/lib/python3.7/dist-packages (from google-auth<3,>=1.6.3->tensorboard>=2.4.1->-r requirements.txt (line 16)) (4.8)\n",
            "Requirement already satisfied: requests-oauthlib>=0.7.0 in /usr/local/lib/python3.7/dist-packages (from google-auth-oauthlib<0.5,>=0.4.1->tensorboard>=2.4.1->-r requirements.txt (line 16)) (1.3.1)\n",
            "Requirement already satisfied: importlib-metadata>=4.4 in /usr/local/lib/python3.7/dist-packages (from markdown>=2.6.8->tensorboard>=2.4.1->-r requirements.txt (line 16)) (4.11.3)\n",
            "Requirement already satisfied: zipp>=0.5 in /usr/local/lib/python3.7/dist-packages (from importlib-metadata>=4.4->markdown>=2.6.8->tensorboard>=2.4.1->-r requirements.txt (line 16)) (3.8.0)\n",
            "Requirement already satisfied: pyasn1<0.5.0,>=0.4.6 in /usr/local/lib/python3.7/dist-packages (from pyasn1-modules>=0.2.1->google-auth<3,>=1.6.3->tensorboard>=2.4.1->-r requirements.txt (line 16)) (0.4.8)\n",
            "Requirement already satisfied: oauthlib>=3.0.0 in /usr/local/lib/python3.7/dist-packages (from requests-oauthlib>=0.7.0->google-auth-oauthlib<0.5,>=0.4.1->tensorboard>=2.4.1->-r requirements.txt (line 16)) (3.2.0)\n",
            "Installing collected packages: thop, PyYAML\n",
            "  Attempting uninstall: PyYAML\n",
            "    Found existing installation: PyYAML 3.13\n",
            "    Uninstalling PyYAML-3.13:\n",
            "      Successfully uninstalled PyYAML-3.13\n",
            "Successfully installed PyYAML-6.0 thop-0.0.31.post2005241907\n"
          ]
        }
      ]
    },
    {
      "cell_type": "markdown",
      "source": [
        "## Training YOLO v5 model"
      ],
      "metadata": {
        "id": "P4NIjphPyf0M"
      }
    },
    {
      "cell_type": "code",
      "source": [
        "!python train.py --data data.yaml --cfg yolov5s.yaml --batch-size 8 --name Model --epochs 50"
      ],
      "metadata": {
        "colab": {
          "base_uri": "https://localhost:8080/"
        },
        "id": "FAU4UyQ7yyf7",
        "outputId": "2a4d14b6-70eb-43ff-9b90-b58de3c049a1"
      },
      "execution_count": null,
      "outputs": [
        {
          "output_type": "stream",
          "name": "stdout",
          "text": [
            "\u001b[34m\u001b[1mtrain: \u001b[0mweights=yolov5s.pt, cfg=yolov5s.yaml, data=data.yaml, hyp=data/hyps/hyp.scratch-low.yaml, epochs=50, batch_size=8, imgsz=640, rect=False, resume=False, nosave=False, noval=False, noautoanchor=False, noplots=False, evolve=None, bucket=, cache=None, image_weights=False, device=, multi_scale=False, single_cls=False, optimizer=SGD, sync_bn=False, workers=8, project=runs/train, name=Model, exist_ok=False, quad=False, cos_lr=False, label_smoothing=0.0, patience=100, freeze=[0], save_period=-1, local_rank=-1, entity=None, upload_dataset=False, bbox_interval=-1, artifact_alias=latest\n",
            "\u001b[34m\u001b[1mgithub: \u001b[0mup to date with https://github.com/ultralytics/yolov5 ✅\n",
            "YOLOv5 🚀 v6.1-208-g15057d2 Python-3.7.13 torch-1.11.0+cu113 CUDA:0 (Tesla T4, 15110MiB)\n",
            "\n",
            "\u001b[34m\u001b[1mhyperparameters: \u001b[0mlr0=0.01, lrf=0.01, momentum=0.937, weight_decay=0.0005, warmup_epochs=3.0, warmup_momentum=0.8, warmup_bias_lr=0.1, box=0.05, cls=0.5, cls_pw=1.0, obj=1.0, obj_pw=1.0, iou_t=0.2, anchor_t=4.0, fl_gamma=0.0, hsv_h=0.015, hsv_s=0.7, hsv_v=0.4, degrees=0.0, translate=0.1, scale=0.5, shear=0.0, perspective=0.0, flipud=0.0, fliplr=0.5, mosaic=1.0, mixup=0.0, copy_paste=0.0\n",
            "\u001b[34m\u001b[1mWeights & Biases: \u001b[0mrun 'pip install wandb' to automatically track and visualize YOLOv5 🚀 runs (RECOMMENDED)\n",
            "\u001b[34m\u001b[1mTensorBoard: \u001b[0mStart with 'tensorboard --logdir runs/train', view at http://localhost:6006/\n",
            "Downloading https://ultralytics.com/assets/Arial.ttf to /root/.config/Ultralytics/Arial.ttf...\n",
            "100% 755k/755k [00:00<00:00, 115MB/s]\n",
            "Downloading https://github.com/ultralytics/yolov5/releases/download/v6.1/yolov5s.pt to yolov5s.pt...\n",
            "100% 14.1M/14.1M [00:00<00:00, 136MB/s]\n",
            "\n",
            "Overriding model.yaml nc=80 with nc=20\n",
            "\n",
            "                 from  n    params  module                                  arguments                     \n",
            "  0                -1  1      3520  models.common.Conv                      [3, 32, 6, 2, 2]              \n",
            "  1                -1  1     18560  models.common.Conv                      [32, 64, 3, 2]                \n",
            "  2                -1  1     18816  models.common.C3                        [64, 64, 1]                   \n",
            "  3                -1  1     73984  models.common.Conv                      [64, 128, 3, 2]               \n",
            "  4                -1  2    115712  models.common.C3                        [128, 128, 2]                 \n",
            "  5                -1  1    295424  models.common.Conv                      [128, 256, 3, 2]              \n",
            "  6                -1  3    625152  models.common.C3                        [256, 256, 3]                 \n",
            "  7                -1  1   1180672  models.common.Conv                      [256, 512, 3, 2]              \n",
            "  8                -1  1   1182720  models.common.C3                        [512, 512, 1]                 \n",
            "  9                -1  1    656896  models.common.SPPF                      [512, 512, 5]                 \n",
            " 10                -1  1    131584  models.common.Conv                      [512, 256, 1, 1]              \n",
            " 11                -1  1         0  torch.nn.modules.upsampling.Upsample    [None, 2, 'nearest']          \n",
            " 12           [-1, 6]  1         0  models.common.Concat                    [1]                           \n",
            " 13                -1  1    361984  models.common.C3                        [512, 256, 1, False]          \n",
            " 14                -1  1     33024  models.common.Conv                      [256, 128, 1, 1]              \n",
            " 15                -1  1         0  torch.nn.modules.upsampling.Upsample    [None, 2, 'nearest']          \n",
            " 16           [-1, 4]  1         0  models.common.Concat                    [1]                           \n",
            " 17                -1  1     90880  models.common.C3                        [256, 128, 1, False]          \n",
            " 18                -1  1    147712  models.common.Conv                      [128, 128, 3, 2]              \n",
            " 19          [-1, 14]  1         0  models.common.Concat                    [1]                           \n",
            " 20                -1  1    296448  models.common.C3                        [256, 256, 1, False]          \n",
            " 21                -1  1    590336  models.common.Conv                      [256, 256, 3, 2]              \n",
            " 22          [-1, 10]  1         0  models.common.Concat                    [1]                           \n",
            " 23                -1  1   1182720  models.common.C3                        [512, 512, 1, False]          \n",
            " 24      [17, 20, 23]  1     67425  models.yolo.Detect                      [20, [[10, 13, 16, 30, 33, 23], [30, 61, 62, 45, 59, 119], [116, 90, 156, 198, 373, 326]], [128, 256, 512]]\n",
            "YOLOv5s summary: 270 layers, 7073569 parameters, 7073569 gradients, 16.0 GFLOPs\n",
            "\n",
            "Transferred 342/349 items from yolov5s.pt\n",
            "Scaled weight_decay = 0.0005\n",
            "\u001b[34m\u001b[1moptimizer:\u001b[0m SGD with parameter groups 57 weight (no decay), 60 weight, 60 bias\n",
            "\u001b[34m\u001b[1malbumentations: \u001b[0mversion 1.0.3 required by YOLOv5, but version 0.1.12 is currently installed\n",
            "\u001b[34m\u001b[1mtrain: \u001b[0mScanning '/content/drive/MyDrive/Yolo_training/yolov5/data_images/train' images and labels...4010 found, 0 missing, 0 empty, 0 corrupt: 100% 4010/4010 [01:50<00:00, 36.45it/s] \n",
            "\u001b[34m\u001b[1mtrain: \u001b[0mNew cache created: /content/drive/MyDrive/Yolo_training/yolov5/data_images/train.cache\n",
            "\u001b[34m\u001b[1mval: \u001b[0mScanning '/content/drive/MyDrive/Yolo_training/yolov5/data_images/test' images and labels...1002 found, 0 missing, 0 empty, 0 corrupt: 100% 1002/1002 [00:23<00:00, 42.22it/s]\n",
            "\u001b[34m\u001b[1mval: \u001b[0mNew cache created: /content/drive/MyDrive/Yolo_training/yolov5/data_images/test.cache\n",
            "Plotting labels to runs/train/Model/labels.jpg... \n",
            "\n",
            "\u001b[34m\u001b[1mAutoAnchor: \u001b[0m4.26 anchors/target, 1.000 Best Possible Recall (BPR). Current anchors are a good fit to dataset ✅\n",
            "Image sizes 640 train, 640 val\n",
            "Using 2 dataloader workers\n",
            "Logging results to \u001b[1mruns/train/Model\u001b[0m\n",
            "Starting training for 50 epochs...\n",
            "\n",
            "     Epoch   gpu_mem       box       obj       cls    labels  img_size\n",
            "      0/49     1.89G   0.07584    0.0454   0.06104        15       640: 100% 502/502 [02:27<00:00,  3.41it/s]\n",
            "               Class     Images     Labels          P          R     mAP@.5 mAP@.5:.95: 100% 63/63 [00:12<00:00,  5.14it/s]\n",
            "                 all       1002       3189      0.399      0.349      0.316      0.158\n",
            "\n",
            "     Epoch   gpu_mem       box       obj       cls    labels  img_size\n",
            "      1/49     3.35G   0.05762   0.03826   0.03313        26       640: 100% 502/502 [02:22<00:00,  3.53it/s]\n",
            "               Class     Images     Labels          P          R     mAP@.5 mAP@.5:.95: 100% 63/63 [00:11<00:00,  5.36it/s]\n",
            "                 all       1002       3189      0.442      0.566      0.472      0.215\n",
            "\n",
            "     Epoch   gpu_mem       box       obj       cls    labels  img_size\n",
            "      2/49     3.35G    0.0564   0.03898   0.02644        23       640: 100% 502/502 [02:22<00:00,  3.53it/s]\n",
            "               Class     Images     Labels          P          R     mAP@.5 mAP@.5:.95: 100% 63/63 [00:12<00:00,  5.10it/s]\n",
            "                 all       1002       3189      0.433      0.397      0.378      0.174\n",
            "\n",
            "     Epoch   gpu_mem       box       obj       cls    labels  img_size\n",
            "      3/49     3.35G   0.05303     0.043   0.02958         6       640: 100% 502/502 [02:20<00:00,  3.57it/s]\n",
            "               Class     Images     Labels          P          R     mAP@.5 mAP@.5:.95: 100% 63/63 [00:12<00:00,  5.25it/s]\n",
            "                 all       1002       3189      0.496      0.455      0.458      0.225\n",
            "\n",
            "     Epoch   gpu_mem       box       obj       cls    labels  img_size\n",
            "      4/49     3.35G   0.05095   0.04357   0.02691        15       640: 100% 502/502 [02:22<00:00,  3.53it/s]\n",
            "               Class     Images     Labels          P          R     mAP@.5 mAP@.5:.95: 100% 63/63 [00:11<00:00,  5.43it/s]\n",
            "                 all       1002       3189      0.517      0.433      0.437      0.212\n",
            "\n",
            "     Epoch   gpu_mem       box       obj       cls    labels  img_size\n",
            "      5/49     3.35G   0.04848   0.04272   0.02439        37       640: 100% 502/502 [02:22<00:00,  3.52it/s]\n",
            "               Class     Images     Labels          P          R     mAP@.5 mAP@.5:.95: 100% 63/63 [00:11<00:00,  5.42it/s]\n",
            "                 all       1002       3189      0.581      0.498      0.532       0.27\n",
            "\n",
            "     Epoch   gpu_mem       box       obj       cls    labels  img_size\n",
            "      6/49     3.35G   0.04731   0.04222   0.02281         6       640: 100% 502/502 [02:22<00:00,  3.52it/s]\n",
            "               Class     Images     Labels          P          R     mAP@.5 mAP@.5:.95: 100% 63/63 [00:11<00:00,  5.48it/s]\n",
            "                 all       1002       3189      0.574        0.5      0.531      0.268\n",
            "\n",
            "     Epoch   gpu_mem       box       obj       cls    labels  img_size\n",
            "      7/49     3.35G    0.0459   0.04146   0.02109        11       640: 100% 502/502 [02:21<00:00,  3.54it/s]\n",
            "               Class     Images     Labels          P          R     mAP@.5 mAP@.5:.95: 100% 63/63 [00:11<00:00,  5.51it/s]\n",
            "                 all       1002       3189       0.64      0.527      0.584      0.305\n",
            "\n",
            "     Epoch   gpu_mem       box       obj       cls    labels  img_size\n",
            "      8/49     3.35G   0.04549   0.04029   0.01974         6       640: 100% 502/502 [02:21<00:00,  3.55it/s]\n",
            "               Class     Images     Labels          P          R     mAP@.5 mAP@.5:.95: 100% 63/63 [00:11<00:00,  5.53it/s]\n",
            "                 all       1002       3189      0.624      0.522      0.567      0.304\n",
            "\n",
            "     Epoch   gpu_mem       box       obj       cls    labels  img_size\n",
            "      9/49     3.35G   0.04448   0.04034   0.01908        29       640: 100% 502/502 [02:20<00:00,  3.56it/s]\n",
            "               Class     Images     Labels          P          R     mAP@.5 mAP@.5:.95: 100% 63/63 [00:11<00:00,  5.59it/s]\n",
            "                 all       1002       3189      0.638      0.507      0.552      0.298\n",
            "\n",
            "     Epoch   gpu_mem       box       obj       cls    labels  img_size\n",
            "     10/49     3.35G   0.04392   0.03996   0.01861         6       640: 100% 502/502 [02:20<00:00,  3.56it/s]\n",
            "               Class     Images     Labels          P          R     mAP@.5 mAP@.5:.95: 100% 63/63 [00:11<00:00,  5.62it/s]\n",
            "                 all       1002       3189      0.619      0.549      0.579      0.319\n",
            "\n",
            "     Epoch   gpu_mem       box       obj       cls    labels  img_size\n",
            "     11/49     3.35G   0.04353   0.04056   0.01795        26       640: 100% 502/502 [02:20<00:00,  3.58it/s]\n",
            "               Class     Images     Labels          P          R     mAP@.5 mAP@.5:.95: 100% 63/63 [00:11<00:00,  5.55it/s]\n",
            "                 all       1002       3189      0.669      0.556      0.613      0.342\n",
            "\n",
            "     Epoch   gpu_mem       box       obj       cls    labels  img_size\n",
            "     12/49     3.35G   0.04248    0.0395   0.01693        12       640: 100% 502/502 [02:19<00:00,  3.59it/s]\n",
            "               Class     Images     Labels          P          R     mAP@.5 mAP@.5:.95: 100% 63/63 [00:11<00:00,  5.48it/s]\n",
            "                 all       1002       3189      0.613      0.548      0.594      0.326\n",
            "\n",
            "     Epoch   gpu_mem       box       obj       cls    labels  img_size\n",
            "     13/49     3.35G   0.04193   0.03836   0.01588        11       640: 100% 502/502 [02:19<00:00,  3.59it/s]\n",
            "               Class     Images     Labels          P          R     mAP@.5 mAP@.5:.95: 100% 63/63 [00:11<00:00,  5.60it/s]\n",
            "                 all       1002       3189      0.643      0.576      0.618      0.342\n",
            "\n",
            "     Epoch   gpu_mem       box       obj       cls    labels  img_size\n",
            "     14/49     3.35G    0.0413   0.03883    0.0155        13       640: 100% 502/502 [02:21<00:00,  3.56it/s]\n",
            "               Class     Images     Labels          P          R     mAP@.5 mAP@.5:.95: 100% 63/63 [00:11<00:00,  5.66it/s]\n",
            "                 all       1002       3189      0.674      0.554      0.612       0.35\n",
            "\n",
            "     Epoch   gpu_mem       box       obj       cls    labels  img_size\n",
            "     15/49     3.35G   0.04076   0.03812   0.01503         7       640: 100% 502/502 [02:20<00:00,  3.58it/s]\n",
            "               Class     Images     Labels          P          R     mAP@.5 mAP@.5:.95: 100% 63/63 [00:11<00:00,  5.48it/s]\n",
            "                 all       1002       3189       0.66      0.593      0.642       0.36\n",
            "\n",
            "     Epoch   gpu_mem       box       obj       cls    labels  img_size\n",
            "     16/49     3.35G   0.04038   0.03841   0.01441        12       640: 100% 502/502 [02:22<00:00,  3.52it/s]\n",
            "               Class     Images     Labels          P          R     mAP@.5 mAP@.5:.95: 100% 63/63 [00:11<00:00,  5.65it/s]\n",
            "                 all       1002       3189      0.659      0.577       0.63       0.37\n",
            "\n",
            "     Epoch   gpu_mem       box       obj       cls    labels  img_size\n",
            "     17/49     3.35G   0.04027   0.03837   0.01542        14       640: 100% 502/502 [02:21<00:00,  3.56it/s]\n",
            "               Class     Images     Labels          P          R     mAP@.5 mAP@.5:.95: 100% 63/63 [00:10<00:00,  5.76it/s]\n",
            "                 all       1002       3189      0.679      0.569      0.632      0.361\n",
            "\n",
            "     Epoch   gpu_mem       box       obj       cls    labels  img_size\n",
            "     18/49     3.35G   0.03972   0.03727   0.01396        11       640: 100% 502/502 [02:20<00:00,  3.58it/s]\n",
            "               Class     Images     Labels          P          R     mAP@.5 mAP@.5:.95: 100% 63/63 [00:11<00:00,  5.71it/s]\n",
            "                 all       1002       3189       0.68      0.594      0.647       0.37\n",
            "\n",
            "     Epoch   gpu_mem       box       obj       cls    labels  img_size\n",
            "     19/49     3.35G   0.03886   0.03668    0.0128        14       640: 100% 502/502 [02:21<00:00,  3.56it/s]\n",
            "               Class     Images     Labels          P          R     mAP@.5 mAP@.5:.95: 100% 63/63 [00:11<00:00,  5.67it/s]\n",
            "                 all       1002       3189      0.667      0.599      0.656      0.381\n",
            "\n",
            "     Epoch   gpu_mem       box       obj       cls    labels  img_size\n",
            "     20/49     3.35G   0.03873   0.03642   0.01251        22       640: 100% 502/502 [02:21<00:00,  3.55it/s]\n",
            "               Class     Images     Labels          P          R     mAP@.5 mAP@.5:.95: 100% 63/63 [00:11<00:00,  5.60it/s]\n",
            "                 all       1002       3189      0.661      0.616      0.643      0.374\n",
            "\n",
            "     Epoch   gpu_mem       box       obj       cls    labels  img_size\n",
            "     21/49     3.35G    0.0383   0.03616   0.01184        17       640: 100% 502/502 [02:20<00:00,  3.58it/s]\n",
            "               Class     Images     Labels          P          R     mAP@.5 mAP@.5:.95: 100% 63/63 [00:11<00:00,  5.70it/s]\n",
            "                 all       1002       3189      0.675      0.593       0.65      0.384\n",
            "\n",
            "     Epoch   gpu_mem       box       obj       cls    labels  img_size\n",
            "     22/49     3.35G   0.03774   0.03513   0.01206        17       640: 100% 502/502 [02:19<00:00,  3.59it/s]\n",
            "               Class     Images     Labels          P          R     mAP@.5 mAP@.5:.95: 100% 63/63 [00:10<00:00,  5.73it/s]\n",
            "                 all       1002       3189      0.708      0.603      0.664      0.388\n",
            "\n",
            "     Epoch   gpu_mem       box       obj       cls    labels  img_size\n",
            "     23/49     3.35G   0.03746   0.03621   0.01186         9       640: 100% 502/502 [02:19<00:00,  3.59it/s]\n",
            "               Class     Images     Labels          P          R     mAP@.5 mAP@.5:.95: 100% 63/63 [00:11<00:00,  5.67it/s]\n",
            "                 all       1002       3189      0.712      0.575      0.643      0.385\n",
            "\n",
            "     Epoch   gpu_mem       box       obj       cls    labels  img_size\n",
            "     24/49     3.35G   0.03739   0.03623   0.01195         2       640: 100% 502/502 [02:19<00:00,  3.60it/s]\n",
            "               Class     Images     Labels          P          R     mAP@.5 mAP@.5:.95: 100% 63/63 [00:11<00:00,  5.54it/s]\n",
            "                 all       1002       3189      0.684      0.619      0.663      0.401\n",
            "\n",
            "     Epoch   gpu_mem       box       obj       cls    labels  img_size\n",
            "     25/49     3.35G   0.03644   0.03521   0.01107         5       640: 100% 502/502 [02:19<00:00,  3.59it/s]\n",
            "               Class     Images     Labels          P          R     mAP@.5 mAP@.5:.95: 100% 63/63 [00:10<00:00,  5.74it/s]\n",
            "                 all       1002       3189      0.701      0.605      0.657      0.398\n",
            "\n",
            "     Epoch   gpu_mem       box       obj       cls    labels  img_size\n",
            "     26/49     3.35G   0.03658   0.03467   0.01117        11       640: 100% 502/502 [02:21<00:00,  3.56it/s]\n",
            "               Class     Images     Labels          P          R     mAP@.5 mAP@.5:.95: 100% 63/63 [00:11<00:00,  5.61it/s]\n",
            "                 all       1002       3189      0.689      0.602      0.657      0.399\n",
            "\n",
            "     Epoch   gpu_mem       box       obj       cls    labels  img_size\n",
            "     27/49     3.35G   0.03639   0.03499   0.01056        14       640: 100% 502/502 [02:19<00:00,  3.60it/s]\n",
            "               Class     Images     Labels          P          R     mAP@.5 mAP@.5:.95: 100% 63/63 [00:10<00:00,  5.73it/s]\n",
            "                 all       1002       3189      0.706      0.611      0.662      0.398\n",
            "\n",
            "     Epoch   gpu_mem       box       obj       cls    labels  img_size\n",
            "     28/49     3.35G   0.03591   0.03501   0.01068        15       640: 100% 502/502 [02:19<00:00,  3.61it/s]\n",
            "               Class     Images     Labels          P          R     mAP@.5 mAP@.5:.95: 100% 63/63 [00:11<00:00,  5.65it/s]\n",
            "                 all       1002       3189       0.71      0.605      0.661      0.402\n",
            "\n",
            "     Epoch   gpu_mem       box       obj       cls    labels  img_size\n",
            "     29/49     3.35G   0.03547   0.03394  0.009818        17       640: 100% 502/502 [02:20<00:00,  3.58it/s]\n",
            "               Class     Images     Labels          P          R     mAP@.5 mAP@.5:.95: 100% 63/63 [00:11<00:00,  5.61it/s]\n",
            "                 all       1002       3189      0.712      0.623       0.68      0.415\n",
            "\n",
            "     Epoch   gpu_mem       box       obj       cls    labels  img_size\n",
            "     30/49     3.35G    0.0354    0.0331   0.01006        10       640: 100% 502/502 [02:20<00:00,  3.58it/s]\n",
            "               Class     Images     Labels          P          R     mAP@.5 mAP@.5:.95: 100% 63/63 [00:11<00:00,  5.58it/s]\n",
            "                 all       1002       3189      0.711      0.624       0.67      0.415\n",
            "\n",
            "     Epoch   gpu_mem       box       obj       cls    labels  img_size\n",
            "     31/49     3.35G   0.03494   0.03417   0.00995         3       640: 100% 502/502 [02:20<00:00,  3.58it/s]\n",
            "               Class     Images     Labels          P          R     mAP@.5 mAP@.5:.95: 100% 63/63 [00:11<00:00,  5.58it/s]\n",
            "                 all       1002       3189      0.713      0.635       0.69      0.424\n",
            "\n",
            "     Epoch   gpu_mem       box       obj       cls    labels  img_size\n",
            "     32/49     3.35G   0.03446   0.03313  0.009499        10       640: 100% 502/502 [02:20<00:00,  3.58it/s]\n",
            "               Class     Images     Labels          P          R     mAP@.5 mAP@.5:.95: 100% 63/63 [00:11<00:00,  5.67it/s]\n",
            "                 all       1002       3189      0.712      0.645      0.689      0.422\n",
            "\n",
            "     Epoch   gpu_mem       box       obj       cls    labels  img_size\n",
            "     33/49     3.35G   0.03403   0.03279  0.009176        13       640: 100% 502/502 [02:19<00:00,  3.59it/s]\n",
            "               Class     Images     Labels          P          R     mAP@.5 mAP@.5:.95: 100% 63/63 [00:11<00:00,  5.66it/s]\n",
            "                 all       1002       3189      0.724      0.625      0.688      0.429\n",
            "\n",
            "     Epoch   gpu_mem       box       obj       cls    labels  img_size\n",
            "     34/49     3.35G   0.03428   0.03302  0.009021        20       640: 100% 502/502 [02:20<00:00,  3.58it/s]\n",
            "               Class     Images     Labels          P          R     mAP@.5 mAP@.5:.95: 100% 63/63 [00:11<00:00,  5.57it/s]\n",
            "                 all       1002       3188       0.71      0.629      0.682      0.424\n",
            "\n",
            "     Epoch   gpu_mem       box       obj       cls    labels  img_size\n",
            "     35/49     3.35G    0.0333   0.03238  0.008787        12       640: 100% 502/502 [02:20<00:00,  3.57it/s]\n",
            "               Class     Images     Labels          P          R     mAP@.5 mAP@.5:.95: 100% 63/63 [00:11<00:00,  5.63it/s]\n",
            "                 all       1002       3189      0.707      0.656      0.694      0.437\n",
            "\n",
            "     Epoch   gpu_mem       box       obj       cls    labels  img_size\n",
            "     36/49     3.35G   0.03294    0.0318  0.008664        12       640: 100% 502/502 [02:20<00:00,  3.57it/s]\n",
            "               Class     Images     Labels          P          R     mAP@.5 mAP@.5:.95: 100% 63/63 [00:11<00:00,  5.69it/s]\n",
            "                 all       1002       3189      0.721      0.645      0.694      0.432\n",
            "\n",
            "     Epoch   gpu_mem       box       obj       cls    labels  img_size\n",
            "     37/49     3.35G   0.03305   0.03213  0.008394         8       640: 100% 502/502 [02:19<00:00,  3.59it/s]\n",
            "               Class     Images     Labels          P          R     mAP@.5 mAP@.5:.95: 100% 63/63 [00:10<00:00,  5.74it/s]\n",
            "                 all       1002       3189      0.744      0.633      0.698      0.439\n",
            "\n",
            "     Epoch   gpu_mem       box       obj       cls    labels  img_size\n",
            "     38/49     3.35G   0.03279    0.0314  0.008188        15       640: 100% 502/502 [02:19<00:00,  3.59it/s]\n",
            "               Class     Images     Labels          P          R     mAP@.5 mAP@.5:.95: 100% 63/63 [00:10<00:00,  5.73it/s]\n",
            "                 all       1002       3189      0.727      0.652      0.695      0.437\n",
            "\n",
            "     Epoch   gpu_mem       box       obj       cls    labels  img_size\n",
            "     39/49     3.35G   0.03241   0.03173  0.008041        17       640: 100% 502/502 [02:20<00:00,  3.58it/s]\n",
            "               Class     Images     Labels          P          R     mAP@.5 mAP@.5:.95: 100% 63/63 [00:11<00:00,  5.59it/s]\n",
            "                 all       1002       3189      0.712      0.643      0.689      0.435\n",
            "\n",
            "     Epoch   gpu_mem       box       obj       cls    labels  img_size\n",
            "     40/49     3.35G   0.03183   0.03186  0.007919         8       640: 100% 502/502 [02:19<00:00,  3.60it/s]\n",
            "               Class     Images     Labels          P          R     mAP@.5 mAP@.5:.95: 100% 63/63 [00:11<00:00,  5.70it/s]\n",
            "                 all       1002       3189      0.735      0.633      0.698       0.44\n",
            "\n",
            "     Epoch   gpu_mem       box       obj       cls    labels  img_size\n",
            "     41/49     3.35G   0.03176    0.0308  0.007629        24       640: 100% 502/502 [02:19<00:00,  3.60it/s]\n",
            "               Class     Images     Labels          P          R     mAP@.5 mAP@.5:.95: 100% 63/63 [00:11<00:00,  5.70it/s]\n",
            "                 all       1002       3189      0.733      0.643      0.703      0.448\n",
            "\n",
            "     Epoch   gpu_mem       box       obj       cls    labels  img_size\n",
            "     42/49     3.35G   0.03171   0.03121  0.007534         9       640: 100% 502/502 [02:20<00:00,  3.57it/s]\n",
            "               Class     Images     Labels          P          R     mAP@.5 mAP@.5:.95: 100% 63/63 [00:11<00:00,  5.65it/s]\n",
            "                 all       1002       3189      0.742      0.635        0.7      0.445\n",
            "\n",
            "     Epoch   gpu_mem       box       obj       cls    labels  img_size\n",
            "     43/49     3.35G   0.03125   0.03051  0.007386        18       640: 100% 502/502 [02:20<00:00,  3.56it/s]\n",
            "               Class     Images     Labels          P          R     mAP@.5 mAP@.5:.95: 100% 63/63 [00:11<00:00,  5.67it/s]\n",
            "                 all       1002       3189      0.781      0.618      0.704       0.45\n",
            "\n",
            "     Epoch   gpu_mem       box       obj       cls    labels  img_size\n",
            "     44/49     3.35G   0.03088   0.03033  0.007353         8       640: 100% 502/502 [02:20<00:00,  3.57it/s]\n",
            "               Class     Images     Labels          P          R     mAP@.5 mAP@.5:.95: 100% 63/63 [00:11<00:00,  5.70it/s]\n",
            "                 all       1002       3189      0.733      0.649      0.704      0.449\n",
            "\n",
            "     Epoch   gpu_mem       box       obj       cls    labels  img_size\n",
            "     45/49     3.35G    0.0305   0.03005  0.006876        10       640: 100% 502/502 [02:20<00:00,  3.57it/s]\n",
            "               Class     Images     Labels          P          R     mAP@.5 mAP@.5:.95: 100% 63/63 [00:11<00:00,  5.71it/s]\n",
            "                 all       1002       3189      0.769      0.637      0.707      0.455\n",
            "\n",
            "     Epoch   gpu_mem       box       obj       cls    labels  img_size\n",
            "     46/49     3.35G   0.03004   0.02912  0.006881         3       640: 100% 502/502 [02:19<00:00,  3.60it/s]\n",
            "               Class     Images     Labels          P          R     mAP@.5 mAP@.5:.95: 100% 63/63 [00:11<00:00,  5.62it/s]\n",
            "                 all       1002       3189      0.761      0.636      0.709       0.46\n",
            "\n",
            "     Epoch   gpu_mem       box       obj       cls    labels  img_size\n",
            "     47/49     3.35G    0.0301   0.02963  0.006931         7       640: 100% 502/502 [02:19<00:00,  3.60it/s]\n",
            "               Class     Images     Labels          P          R     mAP@.5 mAP@.5:.95: 100% 63/63 [00:11<00:00,  5.51it/s]\n",
            "                 all       1002       3189      0.748      0.651       0.71      0.456\n",
            "\n",
            "     Epoch   gpu_mem       box       obj       cls    labels  img_size\n",
            "     48/49     3.35G   0.02962    0.0296   0.00649         8       640: 100% 502/502 [02:20<00:00,  3.58it/s]\n",
            "               Class     Images     Labels          P          R     mAP@.5 mAP@.5:.95: 100% 63/63 [00:11<00:00,  5.68it/s]\n",
            "                 all       1002       3189       0.75      0.645      0.711      0.462\n",
            "\n",
            "     Epoch   gpu_mem       box       obj       cls    labels  img_size\n",
            "     49/49     3.35G   0.02952   0.02946  0.006516        12       640: 100% 502/502 [02:20<00:00,  3.58it/s]\n",
            "               Class     Images     Labels          P          R     mAP@.5 mAP@.5:.95: 100% 63/63 [00:11<00:00,  5.62it/s]\n",
            "                 all       1002       3189      0.755      0.649      0.713      0.464\n",
            "\n",
            "50 epochs completed in 2.121 hours.\n",
            "Optimizer stripped from runs/train/Model/weights/last.pt, 14.5MB\n",
            "Optimizer stripped from runs/train/Model/weights/best.pt, 14.5MB\n",
            "\n",
            "Validating runs/train/Model/weights/best.pt...\n",
            "Fusing layers... \n",
            "YOLOv5s summary: 213 layers, 7064065 parameters, 0 gradients, 16.0 GFLOPs\n",
            "               Class     Images     Labels          P          R     mAP@.5 mAP@.5:.95: 100% 63/63 [00:13<00:00,  4.82it/s]\n",
            "                 all       1002       3189      0.755      0.648      0.713      0.463\n",
            "              person       1002       1189      0.793      0.806      0.851      0.519\n",
            "                 car       1002        324      0.812      0.833      0.877       0.61\n",
            "               chair       1002        244      0.663      0.444      0.449      0.277\n",
            "              bottle       1002        108      0.698      0.463      0.549      0.329\n",
            "         pottedplant       1002        106      0.607      0.509      0.524      0.266\n",
            "                bird       1002        101      0.785      0.495      0.586      0.399\n",
            "                 dog       1002         97      0.749      0.722      0.745      0.497\n",
            "                sofa       1002         93      0.723      0.495      0.674       0.44\n",
            "             bicycle       1002        117      0.787      0.726      0.798      0.509\n",
            "               horse       1002         86      0.848      0.698      0.849      0.591\n",
            "                boat       1002         78      0.741      0.699      0.726      0.444\n",
            "           motorbike       1002        101      0.761      0.772      0.818      0.491\n",
            "                 cat       1002         76      0.716      0.665      0.702      0.499\n",
            "           tvmonitor       1002         66      0.708      0.636      0.653      0.467\n",
            "                 cow       1002         64      0.649      0.688      0.672      0.419\n",
            "               sheep       1002         76      0.831      0.803      0.835      0.509\n",
            "           aeroplane       1002         70      0.913      0.752      0.905      0.616\n",
            "               train       1002         71       0.81       0.69      0.757      0.499\n",
            "         diningtable       1002         68      0.689      0.441      0.573      0.311\n",
            "                 bus       1002         54      0.811       0.63      0.708      0.574\n",
            "Results saved to \u001b[1mruns/train/Model\u001b[0m\n"
          ]
        }
      ]
    },
    {
      "cell_type": "code",
      "source": [
        "!python export.py --weights runs/train/Model/weights/best.pt --include onnx --simplify --opset 12"
      ],
      "metadata": {
        "colab": {
          "base_uri": "https://localhost:8080/"
        },
        "id": "6j1Mjk8wzhbh",
        "outputId": "7c58a424-93c2-4a25-90d0-e8acc131b32c"
      },
      "execution_count": null,
      "outputs": [
        {
          "output_type": "stream",
          "name": "stdout",
          "text": [
            "\u001b[34m\u001b[1mexport: \u001b[0mdata=data/coco128.yaml, weights=['runs/train/Model/weights/best.pt'], imgsz=[640, 640], batch_size=1, device=cpu, half=False, inplace=False, train=False, optimize=False, int8=False, dynamic=False, simplify=False, opset=12, verbose=False, workspace=4, nms=False, agnostic_nms=False, topk_per_class=100, topk_all=100, iou_thres=0.45, conf_thres=0.25, include=['torchscript', 'onnx']\n",
            "YOLOv5 🚀 v6.1-208-g15057d2 Python-3.7.13 torch-1.11.0+cu113 CPU\n",
            "\n",
            "Fusing layers... \n",
            "YOLOv5s summary: 213 layers, 7064065 parameters, 0 gradients, 16.0 GFLOPs\n",
            "\n",
            "\u001b[34m\u001b[1mPyTorch:\u001b[0m starting from runs/train/Model/weights/best.pt with output shape (1, 25200, 25) (13.8 MB)\n",
            "\n",
            "\u001b[34m\u001b[1mTorchScript:\u001b[0m starting export with torch 1.11.0+cu113...\n",
            "\u001b[34m\u001b[1mTorchScript:\u001b[0m export success, saved as runs/train/Model/weights/best.torchscript (27.4 MB)\n",
            "\u001b[31m\u001b[1mrequirements:\u001b[0m onnx not found and is required by YOLOv5, attempting auto-update...\n",
            "Collecting onnx\n",
            "  Downloading onnx-1.11.0-cp37-cp37m-manylinux_2_12_x86_64.manylinux2010_x86_64.whl (12.8 MB)\n",
            "Requirement already satisfied: typing-extensions>=3.6.2.1 in /usr/local/lib/python3.7/dist-packages (from onnx) (4.2.0)\n",
            "Requirement already satisfied: protobuf>=3.12.2 in /usr/local/lib/python3.7/dist-packages (from onnx) (3.17.3)\n",
            "Requirement already satisfied: numpy>=1.16.6 in /usr/local/lib/python3.7/dist-packages (from onnx) (1.21.6)\n",
            "Requirement already satisfied: six>=1.9 in /usr/local/lib/python3.7/dist-packages (from protobuf>=3.12.2->onnx) (1.15.0)\n",
            "Installing collected packages: onnx\n",
            "Successfully installed onnx-1.11.0\n",
            "\n",
            "\u001b[31m\u001b[1mrequirements:\u001b[0m 1 package updated per ['onnx']\n",
            "\u001b[31m\u001b[1mrequirements:\u001b[0m ⚠️ \u001b[1mRestart runtime or rerun command for updates to take effect\u001b[0m\n",
            "\n",
            "\n",
            "\u001b[34m\u001b[1mONNX:\u001b[0m starting export with onnx 1.11.0...\n",
            "\u001b[34m\u001b[1mONNX:\u001b[0m export success, saved as runs/train/Model/weights/best.onnx (27.4 MB)\n",
            "\n",
            "Export complete (10.41s)\n",
            "Results saved to \u001b[1m/content/drive/MyDrive/Yolo_training/yolov5/runs/train/Model/weights\u001b[0m\n",
            "Detect:          python detect.py --weights runs/train/Model/weights/best.onnx\n",
            "PyTorch Hub:     model = torch.hub.load('ultralytics/yolov5', 'custom', 'runs/train/Model/weights/best.onnx')\n",
            "Validate:        python val.py --weights runs/train/Model/weights/best.onnx\n",
            "Visualize:       https://netron.app\n"
          ]
        }
      ]
    },
    {
      "cell_type": "code",
      "source": [],
      "metadata": {
        "id": "6Q9UrUazViNz"
      },
      "execution_count": null,
      "outputs": []
    },
    {
      "cell_type": "code",
      "source": [],
      "metadata": {
        "id": "ZF1JBKVhViLC"
      },
      "execution_count": null,
      "outputs": []
    },
    {
      "cell_type": "code",
      "source": [],
      "metadata": {
        "id": "NSKKGt76ViIT"
      },
      "execution_count": null,
      "outputs": []
    },
    {
      "cell_type": "code",
      "source": [],
      "metadata": {
        "id": "rk1GaB0FViFN"
      },
      "execution_count": null,
      "outputs": []
    },
    {
      "cell_type": "code",
      "source": [],
      "metadata": {
        "id": "COOJEismVh2U"
      },
      "execution_count": null,
      "outputs": []
    }
  ]
}